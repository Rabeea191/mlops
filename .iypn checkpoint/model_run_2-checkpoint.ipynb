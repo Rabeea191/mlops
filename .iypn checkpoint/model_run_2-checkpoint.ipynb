{
 "cells": [
  {
   "cell_type": "code",
   "execution_count": null,
   "id": "6f8cc64f",
   "metadata": {},
   "outputs": [],
   "source": [
    "import pandas as pd\n",
    "import numpy as np\n",
    "\n",
    "import matplotlib.pyplot as plt\n",
    "%matplotlib inline\n",
    "import seaborn as sns\n",
    "\n",
    "from xgboost import XGBClassifier\n",
    "from lightgbm import LGBMClassifier\n",
    "\n",
    "from sklearn.ensemble import ExtraTreesClassifier\n",
    "from sklearn.metrics import accuracy_score,confusion_matrix,classification_report\n",
    "from sklearn.metrics import plot_confusion_matrix,matthews_corrcoef\n",
    "from sklearn.model_selection import cross_val_score, train_test_split\n",
    "import os\n",
    "import librosa\n",
    "from librosa.display import waveshow\n",
    "\n",
    "# my modules\n",
    "from preprocessing import cough_segmentation\n",
    "from feature_extraction import librosa_feature_columns, librosa_normal_embedding"
   ]
  },
  {
   "cell_type": "code",
   "execution_count": null,
   "id": "1827b93b",
   "metadata": {},
   "outputs": [],
   "source": [
    "sr=22050"
   ]
  },
  {
   "cell_type": "markdown",
   "id": "55f6467b",
   "metadata": {},
   "source": [
    "cough preprocessing"
   ]
  },
  {
   "cell_type": "code",
   "execution_count": null,
   "id": "84757d68",
   "metadata": {},
   "outputs": [],
   "source": [
    "base_path='/home/bigpenguin/projects/project_covid/covid_models/silent_split_covid_dataset/covid_for_rauf_pipeline/'"
   ]
  },
  {
   "cell_type": "code",
   "execution_count": null,
   "id": "4c5275ce",
   "metadata": {},
   "outputs": [],
   "source": [
    "'''\n",
    "setting main cohorts paths\n",
    "'''\n",
    "\n",
    "c = 1\n",
    "input_dir_neg = f'/home/bigpenguin/projects/project_covid/covid_models/silent_split_covid_dataset/covid_for_rauf_pipeline/data/raw/cohort{c}/cough/cough_neg/'\n",
    "input_dir_pos = f'/home/bigpenguin/projects/project_covid/covid_models/silent_split_covid_dataset/covid_for_rauf_pipeline/data/raw/cohort{c}/cough/cough_pos/'\n",
    "output_dir_neg = f'/home/bigpenguin/projects/project_covid/covid_models/silent_split_covid_dataset/covid_for_rauf_pipeline/data/transformed/cohort{c}/seg_neg/'\n",
    "output_dir_pos = f'/home/bigpenguin/projects/project_covid/covid_models/silent_split_covid_dataset/covid_for_rauf_pipeline/data/transformed/cohort{c}/seg_pos/'\n"
   ]
  },
  {
   "cell_type": "code",
   "execution_count": null,
   "id": "e3405e98",
   "metadata": {},
   "outputs": [],
   "source": [
    "os.listdir(input_dir_neg),os.listdir(input_dir_pos),os.listdir(output_dir_neg),os.listdir(output_dir_pos)"
   ]
  },
  {
   "cell_type": "code",
   "execution_count": null,
   "id": "dece1da6",
   "metadata": {},
   "outputs": [],
   "source": [
    "# import soundfile as sf\n",
    "\n",
    "# count=0\n",
    "# for i in os.listdir(input_dir_neg):\n",
    "# #     try:\n",
    "#     aud, sr = librosa.load(input_dir_neg+i,sr=22050)\n",
    "#     aud = librosa.util.normalize(aud)\n",
    "\n",
    "#     if len(aud)/sr>1.0:\n",
    "#         splits=librosa.effects.split(aud,top_db=33)\n",
    "#         print(splits)\n",
    "#         for sp in splits:\n",
    "#             pads=sp[1]-sp[0]\n",
    "#             if pads<44100:\n",
    "#                 diff=44100-pads\n",
    "#                 zeros=np.zeros(int(diff/2))\n",
    "#                 tsec=np.pad(aud[sp[0]:sp[1]],len(zeros))\n",
    "#                 tsec = librosa.util.normalize(tsec)\n",
    "#                 n=i.split('.')[0]\n",
    "#                 sf.write(f'{output_dir_neg}{n+\"_\"+str(count)}.wav',tsec ,sr,format='wav')\n",
    "#                 count+=1\n",
    "# #     except:\n",
    "# #         print('file length zero')"
   ]
  },
  {
   "cell_type": "code",
   "execution_count": null,
   "id": "f9dfba6a",
   "metadata": {},
   "outputs": [],
   "source": [
    "'''\n",
    "cough segmentation \n",
    "'''\n",
    "\n",
    "cso = cough_segmentation()\n",
    "cso.segmenter(input_dir_neg,output_dir_neg)\n",
    "cso.segmenter(input_dir_pos,output_dir_pos)"
   ]
  },
  {
   "cell_type": "code",
   "execution_count": null,
   "id": "31f27215",
   "metadata": {},
   "outputs": [],
   "source": [
    "'''\n",
    "cough model inference\n",
    "'''"
   ]
  },
  {
   "cell_type": "markdown",
   "id": "6410c615",
   "metadata": {},
   "source": [
    "feature extracion"
   ]
  },
  {
   "cell_type": "code",
   "execution_count": null,
   "id": "ac7f38d6",
   "metadata": {},
   "outputs": [],
   "source": [
    "'''\n",
    "create audio data method\n",
    "'''\n",
    "\n",
    "def create_data(data_dir,sr):\n",
    "    data=[]\n",
    "    for i in os.listdir(data_dir):\n",
    "        y,sr=librosa.load(data_dir+i,sr=sr)\n",
    "        data.append(y)\n",
    "    return data"
   ]
  },
  {
   "cell_type": "code",
   "execution_count": null,
   "id": "85ed85ab",
   "metadata": {},
   "outputs": [],
   "source": [
    "'''\n",
    "feature extraction method\n",
    "'''\n",
    "\n",
    "def feature_extractor(sr,embedding,data,columns,y):\n",
    "    feats=[embedding(x,sr) for x in data]\n",
    "    feats_df=pd.DataFrame(feats,columns=columns)\n",
    "    ys=feats_df.shape[0]*y\n",
    "    feats_df['status']=ys\n",
    "    return feats_df"
   ]
  },
  {
   "cell_type": "code",
   "execution_count": null,
   "id": "9fd650fc",
   "metadata": {},
   "outputs": [],
   "source": [
    "'''\n",
    "generate column names for the embedding\n",
    "'''\n",
    "\n",
    "columns = librosa_feature_columns()"
   ]
  },
  {
   "cell_type": "code",
   "execution_count": null,
   "id": "27b3489b",
   "metadata": {},
   "outputs": [],
   "source": [
    "'''\n",
    "setting paths for the segmented cohorts\n",
    "'''\n",
    "\n",
    "cohort_1_seg_pos = '/path/to/segmented/positive/cohort_1/'\n",
    "cohort_1_seg_neg = '/path/to/segmented/negative/cohort_1/'\n",
    "\n",
    "cohort_2_seg_pos = '/path/to/segmented/positive/cohort_2/'\n",
    "cohort_2_seg_neg = '/path/to/segmented/negative/cohort_2/'\n",
    "\n",
    "cohort_3_seg_pos = '/path/to/segmented/positive/cohort_3/'\n",
    "cohort_3_seg_neg = '/path/to/segmented/negative/cohort_3/'"
   ]
  },
  {
   "cell_type": "code",
   "execution_count": null,
   "id": "fcc1fc48",
   "metadata": {},
   "outputs": [],
   "source": [
    "'''\n",
    "create data\n",
    "'''\n",
    "\n",
    "cohort_1_data_pos = create_data(cohort_1_seg_pos,sr)\n",
    "cohort_1_data_neg = create_data(cohort_1_seg_neg,sr)\n",
    "\n",
    "cohort_2_data_pos = create_data(cohort_2_seg_pos,sr)\n",
    "cohort_2_data_neg = create_data(cohort_2_seg_neg,sr)\n",
    "\n",
    "cohort_3_data_pos = create_data(cohort_3_seg_pos,sr)\n",
    "cohort_3_data_neg = create_data(cohort_3_seg_neg,sr)"
   ]
  },
  {
   "cell_type": "code",
   "execution_count": null,
   "id": "12270b86",
   "metadata": {},
   "outputs": [],
   "source": [
    "'''\n",
    "extract audio features\n",
    "'''\n",
    "\n",
    "positive=['covid-19']\n",
    "negative=['healthy']\n",
    "\n",
    "cohort_1_pos_features = feature_extraction(sr,librosa_normal_embedding,cohort_1_data_pos,columns,positive)\n",
    "cohort_1_neg_features = feature_extraction(sr,librosa_normal_embedding,cohort_1_data_neg,columns,negative)\n",
    "\n",
    "cohort_2_pos_features = feature_extraction(sr,librosa_normal_embedding,cohort_2_data_pos,columns,positive)\n",
    "cohort_2_neg_features = feature_extraction(sr,librosa_normal_embedding,cohort_2_data_neg,columns,negative)\n",
    "\n",
    "cohort_3_pos_features = feature_extraction(sr,librosa_normal_embedding,cohort_3_data_pos,columns,positive)\n",
    "cohort_3_neg_features = feature_extraction(sr,librosa_normal_embedding,cohort_3_data_neg,columns,negative)"
   ]
  },
  {
   "cell_type": "markdown",
   "id": "727b4cc1",
   "metadata": {},
   "source": [
    "prepare train and test data"
   ]
  },
  {
   "cell_type": "code",
   "execution_count": null,
   "id": "10cf8bb8",
   "metadata": {},
   "outputs": [],
   "source": [
    "'''\n",
    "prepare train and test data with cohort 1 and cohort 2\n",
    "'''\n",
    "\n",
    "cohort_1 = pd.concat([cohort_1_pos_features,cohort_1_neg_features],axis=0).reset_index(drop=True)\n",
    "cohort_2 = pd.concat([cohort_2_pos_features,cohort_2_neg_features],axis=0).reset_index(drop=True)\n",
    "\n",
    "cohort_1_2 = pd.concat([cohort_1,cohort_2],axis=0).reset_index(drop=True)\n",
    "\n",
    "cohort_1_2_y = cohort_1_2.drop(['status'],axis=1)"
   ]
  },
  {
   "cell_type": "code",
   "execution_count": null,
   "id": "c3e42fd5",
   "metadata": {},
   "outputs": [],
   "source": [
    "'''\n",
    "get target classes\n",
    "'''\n",
    "\n",
    "classes=cohort_1_2_y['status'].unique()"
   ]
  },
  {
   "cell_type": "code",
   "execution_count": null,
   "id": "e0513513",
   "metadata": {},
   "outputs": [],
   "source": [
    "'''\n",
    "splitting dataset to train & test\n",
    "'''\n",
    "\n",
    "X_train,X_test,y_train,y_test = train_test_split(\n",
    "            cohort_1_2,\n",
    "            cohort_1_2_y,\n",
    "            test_size=0.2,\n",
    "            random_state=42,\n",
    "            shuffle=True,\n",
    "            stratify=True\n",
    ")"
   ]
  },
  {
   "cell_type": "markdown",
   "id": "9946cdc5",
   "metadata": {},
   "source": [
    "train & test models"
   ]
  },
  {
   "cell_type": "code",
   "execution_count": null,
   "id": "432c3778",
   "metadata": {},
   "outputs": [],
   "source": [
    "xgbc = XGBClassifier(random_state=42)\n",
    "xgbc.fit(X_train,y_train)\n",
    "xgb_pred=xgbc.predict(X_test)"
   ]
  },
  {
   "cell_type": "code",
   "execution_count": null,
   "id": "11fbc51f",
   "metadata": {},
   "outputs": [],
   "source": [
    "print(\"Acc -- \",accuracy_score(xgb_pred,y_test)*100)\n",
    "print(\"Mcc -- \",matthews_corrcoef(xgb_pred,y_test))\n",
    "cv_scores = cross_val_score(xgbc,cohort_1_2,cohort_1_2_y,cv=5)\n",
    "print(\"Cross Val Acc -- \", np.mean(cv_scores)*100)"
   ]
  },
  {
   "cell_type": "code",
   "execution_count": null,
   "id": "d2cdf365",
   "metadata": {},
   "outputs": [],
   "source": [
    "\n",
    "fig, ax = plt.subplots()\n",
    "fig.set_size_inches(8 ,6)\n",
    "sns.heatmap(confusion_matrix(y_test,xgb_pred),annot=True,fmt='g')"
   ]
  },
  {
   "cell_type": "code",
   "execution_count": null,
   "id": "02e8d721",
   "metadata": {},
   "outputs": [],
   "source": [
    "disp = plot_confusion_matrix(xgbc, X_test,y_test, \n",
    "                             display_labels=classes,\n",
    "                             cmap=plt.cm.Blues,\n",
    "#                              normalize='true'\n",
    "                            )\n",
    "disp.ax_.set_title(\"Normalized confusion matrix\")\n",
    "plt.show()"
   ]
  },
  {
   "cell_type": "code",
   "execution_count": null,
   "id": "b69feffc",
   "metadata": {},
   "outputs": [],
   "source": [
    "print(classification_report(y_test,xgb_pred))"
   ]
  },
  {
   "cell_type": "code",
   "execution_count": null,
   "id": "accb10e0",
   "metadata": {},
   "outputs": [],
   "source": []
  },
  {
   "cell_type": "code",
   "execution_count": null,
   "id": "91206d92",
   "metadata": {},
   "outputs": [],
   "source": [
    "lgb = LGBMClassifier(random_state=42)\n",
    "lgb.fit(X_train,y_train)\n",
    "lgb_pred=lgb.predict(X_test)"
   ]
  },
  {
   "cell_type": "code",
   "execution_count": null,
   "id": "f3badc22",
   "metadata": {},
   "outputs": [],
   "source": [
    "print(\"Acc -- \",accuracy_score(lgb_pred,y_test)*100)\n",
    "print(\"Mcc -- \",matthews_corrcoef(lgb_pred,y_test))\n",
    "cv_scores = cross_val_score(lgb,cohort_1_2,cohort_1_2_y,cv=5)\n",
    "print(\"Cross Val Acc  -- \",np.mean(cv_scores)*100)"
   ]
  },
  {
   "cell_type": "code",
   "execution_count": null,
   "id": "1b300647",
   "metadata": {},
   "outputs": [],
   "source": [
    "fig, ax = plt.subplots()\n",
    "fig.set_size_inches(8 ,6)\n",
    "sns.heatmap(confusion_matrix(y_test,lgb_pred),annot=True,fmt='g')"
   ]
  },
  {
   "cell_type": "code",
   "execution_count": null,
   "id": "b64a1362",
   "metadata": {},
   "outputs": [],
   "source": [
    "disp = plot_confusion_matrix(lgb, X_test,y_test, \n",
    "                             display_labels=classes,\n",
    "                             cmap=plt.cm.Blues,\n",
    "#                              normalize='true'\n",
    "                            )\n",
    "disp.ax_.set_title(\"Normalized confusion matrix\")\n",
    "\n",
    "plt.show()"
   ]
  },
  {
   "cell_type": "code",
   "execution_count": null,
   "id": "ea4a4dca",
   "metadata": {},
   "outputs": [],
   "source": [
    "print(classification_report(y_test,lgb_pred))"
   ]
  },
  {
   "cell_type": "code",
   "execution_count": null,
   "id": "713378b9",
   "metadata": {},
   "outputs": [],
   "source": []
  },
  {
   "cell_type": "code",
   "execution_count": null,
   "id": "1e63ff27",
   "metadata": {},
   "outputs": [],
   "source": [
    "etc = ExtraTreesClassifier(random_state=42)\n",
    "etc.fit(X_train,y_train)\n",
    "etc_pred=etc.predict(X_test)"
   ]
  },
  {
   "cell_type": "code",
   "execution_count": null,
   "id": "eb3217d7",
   "metadata": {},
   "outputs": [],
   "source": [
    "print(\"Acc -- \",accuracy_score(etc_pred,y_test)*100)\n",
    "print(\"Mcc -- \",matthews_corrcoef(etc_pred,y_test))\n",
    "cv_scores = cross_val_score(etc,cohort_1_2,cohort_1_2_y,cv=5)\n",
    "print(\"Cross Val Acc-- \",np.mean(cv_scores)*100)"
   ]
  },
  {
   "cell_type": "code",
   "execution_count": null,
   "id": "4e8d56ca",
   "metadata": {},
   "outputs": [],
   "source": [
    "fig, ax = plt.subplots()\n",
    "fig.set_size_inches(8 ,6)\n",
    "sns.heatmap(confusion_matrix(y_test,lgb_pred),annot=True,fmt='g')"
   ]
  },
  {
   "cell_type": "code",
   "execution_count": null,
   "id": "d3c87544",
   "metadata": {},
   "outputs": [],
   "source": [
    "disp = plot_confusion_matrix(etc, X_test,y_test, \n",
    "                             display_labels=classes,\n",
    "                             cmap=plt.cm.Blues,\n",
    "#                              normalize='true'\n",
    "                            )\n",
    "disp.ax_.set_title(\"Normalized confusion matrix\")\n",
    "\n",
    "plt.show()"
   ]
  },
  {
   "cell_type": "code",
   "execution_count": null,
   "id": "fcb61e26",
   "metadata": {},
   "outputs": [],
   "source": [
    "print(classification_report(y_test,etc_pred))"
   ]
  },
  {
   "cell_type": "markdown",
   "id": "c3271744",
   "metadata": {},
   "source": [
    "test on unseen data"
   ]
  },
  {
   "cell_type": "code",
   "execution_count": null,
   "id": "1a57d6b1",
   "metadata": {},
   "outputs": [],
   "source": [
    "'''\n",
    "prepare data\n",
    "'''\n",
    "\n",
    "cohort_3 = pd.concat([cohort_3_pos_features,cohort_3_neg_features],axis=0).reset_index(drop=True)\n",
    "cohort_3_y = cohort_3.drop(['status'],axis=1)\n"
   ]
  },
  {
   "cell_type": "code",
   "execution_count": null,
   "id": "33f13c85",
   "metadata": {},
   "outputs": [],
   "source": [
    "'''\n",
    "compute performance metrics\n",
    "'''\n",
    "\n",
    "def performance(actual_predictions):\n",
    "\n",
    "    ood=pd.DataFrame(actual_predictions)\n",
    "\n",
    "    print(\"Acc -- \",accuracy_score(ood['actual'],ood['predictions'])*100)\n",
    "    \n",
    "    print(\"Mcc -- \",matthews_corrcoef(ood['actual'],ood['predictions']))\n",
    "\n",
    "    print(pd.crosstab(ood['actual'],ood['predictions']))\n",
    "\n",
    "    print(classification_report(ood['actual'],ood['predictions']))"
   ]
  },
  {
   "cell_type": "code",
   "execution_count": null,
   "id": "f53832a4",
   "metadata": {},
   "outputs": [],
   "source": [
    "'''\n",
    "prepare actual and target values\n",
    "'''\n",
    "\n",
    "def model_rotation(model,data,ys):\n",
    "    cohort = model.predict(data.values)\n",
    "\n",
    "    actual_predictions = {\n",
    "        'actual' : ys,\n",
    "        'predictions' : cohort\n",
    "    }\n",
    "\n",
    "    performance(actual_predictions)"
   ]
  },
  {
   "cell_type": "code",
   "execution_count": null,
   "id": "26920f5d",
   "metadata": {},
   "outputs": [],
   "source": [
    "print(\"Results on out of distribution dataset : Cohort 3\")\n",
    "print(\"XGB\\n\")\n",
    "model_rotation(xgbc,cohort_3,cohort_3_y)\n",
    "print(\"\\nLGB\\n\")\n",
    "model_rotation(lgb,cohort_3,cohort_3_y)\n",
    "print(\"\\nETC\\n\")\n",
    "model_rotation(etc,cohort_3,cohort_3_y)"
   ]
  },
  {
   "cell_type": "code",
   "execution_count": null,
   "id": "92f9f8ac",
   "metadata": {},
   "outputs": [],
   "source": []
  }
 ],
 "metadata": {
  "kernelspec": {
   "display_name": "Python 3 (ipykernel)",
   "language": "python",
   "name": "python3"
  },
  "language_info": {
   "codemirror_mode": {
    "name": "ipython",
    "version": 3
   },
   "file_extension": ".py",
   "mimetype": "text/x-python",
   "name": "python",
   "nbconvert_exporter": "python",
   "pygments_lexer": "ipython3",
   "version": "3.7.13"
  }
 },
 "nbformat": 4,
 "nbformat_minor": 5
}
