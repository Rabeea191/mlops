{
 "cells": [
  {
   "cell_type": "markdown",
   "id": "dca920cb",
   "metadata": {},
   "source": [
    "Loading modules"
   ]
  },
  {
   "cell_type": "code",
   "execution_count": 10,
   "id": "dec5d1a5",
   "metadata": {},
   "outputs": [],
   "source": [
    "import librosa\n",
    "import numpy as np\n",
    "from pydub import AudioSegment\n",
    "import tensorflow as tf\n",
    "from tensorflow.keras.callbacks import ModelCheckpoint,ReduceLROnPlateau,EarlyStopping\n",
    "from tensorflow.keras.layers import BatchNormalization,Dropout,Conv1D,Add,MaxPooling1D,Lambda,TimeDistributed,Dense,Activation,GlobalMaxPooling1D"
   ]
  },
  {
   "cell_type": "markdown",
   "id": "638bcb53",
   "metadata": {},
   "source": [
    "Loading audio files"
   ]
  },
  {
   "cell_type": "code",
   "execution_count": 11,
   "id": "17de61c5",
   "metadata": {},
   "outputs": [],
   "source": [
    "path='/home/bigpenguin/projects/project_covid/gathrd_data/COHORT1/cough/cough_pos/pos-0609-002-cough-m-27.wav'"
   ]
  },
  {
   "cell_type": "code",
   "execution_count": 12,
   "id": "88a6af5a",
   "metadata": {},
   "outputs": [
    {
     "data": {
      "text/plain": [
       "(330750, 22050)"
      ]
     },
     "execution_count": 12,
     "metadata": {},
     "output_type": "execute_result"
    }
   ],
   "source": [
    "sound=AudioSegment.from_file(path)\n",
    "sound=sound.set_frame_rate(22050)\n",
    "channel_sounds = sound.split_to_mono()\n",
    "samples = [s.get_array_of_samples() for s in channel_sounds]\n",
    "fp_arr = np.array(samples).T.astype(np.float32)\n",
    "fp_arr /= np.iinfo(samples[0].typecode).max\n",
    "\n",
    "fp_arr=np.array([x[0] for x in fp_arr])\n",
    "x=librosa.util.normalize(fp_arr)\n",
    "\n",
    "sr=sound.frame_rate\n",
    "len(x),sr"
   ]
  },
  {
   "cell_type": "markdown",
   "id": "a9de0137",
   "metadata": {},
   "source": [
    "Cough filtering model"
   ]
  },
  {
   "cell_type": "code",
   "execution_count": 13,
   "id": "d8fb8fca",
   "metadata": {},
   "outputs": [],
   "source": [
    "def _bn_relu(layer, dropout=0, **params):\n",
    "    '''\n",
    "    This function returns a Batch Normalization Layer with desired activation function\n",
    "    '''\n",
    "    layer = BatchNormalization()(layer)\n",
    "    layer = Activation(params[\"conv_activation\"])(layer)\n",
    "\n",
    "    if dropout > 0:\n",
    "        \n",
    "        layer = Dropout(params[\"conv_dropout\"])(layer)\n",
    "\n",
    "    return layer\n",
    "\n",
    "def add_conv_weight(\n",
    "        layer,\n",
    "        filter_length,\n",
    "        num_filters,\n",
    "        subsample_length=1,\n",
    "        **params):\n",
    "    '''\n",
    "    This function returns a Convolution Layer with desired params\n",
    "    '''\n",
    "    \n",
    "    layer = Conv1D(\n",
    "        filters=num_filters,\n",
    "        kernel_size=filter_length,\n",
    "        strides=subsample_length,\n",
    "        padding='same',\n",
    "        kernel_initializer=params[\"conv_init\"])(layer)\n",
    "    return layer\n",
    "\n",
    "\n",
    "def add_conv_layers(layer, **params):\n",
    "    '''\n",
    "    This function returns a Conv1D and BN Layer stacked together\n",
    "    '''\n",
    "    for subsample_length in params[\"conv_subsample_lengths\"]:\n",
    "        layer = add_conv_weight(\n",
    "                    layer,\n",
    "                    params[\"conv_filter_length\"],\n",
    "                    params[\"conv_num_filters_start\"],\n",
    "                    subsample_length=subsample_length,\n",
    "                    **params)\n",
    "        layer = _bn_relu(layer, **params)\n",
    "    return layer\n",
    "\n",
    "def resnet_block(\n",
    "        layer,\n",
    "        num_filters,\n",
    "        subsample_length,\n",
    "        block_index,\n",
    "        **params):\n",
    "    '''\n",
    "    This function returns a Resnet Block with desired activation function\n",
    "    '''\n",
    "\n",
    "    def zeropad(x):\n",
    "        '''\n",
    "        This function pads zeros to the input vector by a zero vector of same shape in 3rd Dimension\n",
    "        This is used when convolution filters are doubled every 4th Residual Block to match the dimensions\n",
    "        '''\n",
    "        y = tf.zeros_like(x)\n",
    "        return tf.concat([x, y], axis=2)\n",
    "\n",
    "    def zeropad_output_shape(input_shape):\n",
    "        '''\n",
    "        This function checks the shape of input then doubles the 3rd dimension and returns the shape as tuple\n",
    "        This is used to get dimesion shape for the zeropad function\n",
    "        '''\n",
    "        shape = list(input_shape)\n",
    "        assert len(shape) == 3\n",
    "        shape[2] *= 2\n",
    "        return tuple(shape)\n",
    "\n",
    "    # Adding Skip Connections\n",
    "    shortcut = MaxPooling1D(pool_size=subsample_length)(layer)\n",
    "    # At each 4th residual block, double the convolution filters, pad the shortcut so that dimensions match\n",
    "    zero_pad = (block_index % params[\"conv_increase_channels_at\"]) == 0 \\\n",
    "        and block_index > 0\n",
    "    if zero_pad is True:\n",
    "        shortcut = Lambda(zeropad, output_shape=zeropad_output_shape)(shortcut)\n",
    "    for i in range(params[\"conv_num_skip\"]):\n",
    "        if not (block_index == 0 and i == 0):\n",
    "            layer = _bn_relu(\n",
    "                layer,\n",
    "                dropout=params[\"conv_dropout\"] if i > 0 else 0,\n",
    "                **params)\n",
    "        layer = add_conv_weight(\n",
    "            layer,\n",
    "            params[\"conv_filter_length\"],\n",
    "            num_filters,\n",
    "            subsample_length if i == 0 else 1,\n",
    "            **params)\n",
    "    layer = Add()([shortcut, layer])\n",
    "    return layer\n",
    "\n",
    "def get_num_filters_at_index(index, num_start_filters, **params):\n",
    "    '''\n",
    "    This function returns the convolution filters for the specified layer\n",
    "    '''\n",
    "    return 2**int(index / params[\"conv_increase_channels_at\"]) \\\n",
    "        * num_start_filters\n",
    "\n",
    "def add_resnet_layers(layer, **params):\n",
    "    '''\n",
    "    This Function addds the residual blocks that make up the structure\n",
    "    The first and last layers of the network are special-cased due to this pre-activation block structure.\n",
    "    '''\n",
    "    layer = add_conv_weight(\n",
    "        layer,\n",
    "        params[\"conv_filter_length\"],\n",
    "        params[\"conv_num_filters_start\"],\n",
    "        subsample_length=1,\n",
    "        **params)\n",
    "    layer = _bn_relu(layer, **params)\n",
    "    for index, subsample_length in enumerate(params[\"conv_subsample_lengths\"]):\n",
    "        num_filters = get_num_filters_at_index(\n",
    "            index, params[\"conv_num_filters_start\"], **params)\n",
    "        layer = resnet_block(\n",
    "            layer,\n",
    "            num_filters,\n",
    "            subsample_length,\n",
    "            index,\n",
    "            **params)\n",
    "    layer = _bn_relu(layer, **params)\n",
    "    return layer\n",
    "    \n",
    "def add_output_layer(layer, **params):\n",
    "    '''\n",
    "    This Function adds the output layer which is a Dense Layer wrapped in a TimeDistributed Layer.\n",
    "    We use TimeDistributed layer so that the model outputs a prediction for each timestep and the temporal information is retained \n",
    "    Because TimeDistributed applies the same instance of Dense to each of the timestamps, the same set of weights are used at each timestamp. \n",
    "    '''\n",
    "    layer = GlobalMaxPooling1D(name = 'feats')(layer)\n",
    "    layer = Dense(params[\"num_categories\"])(layer)\n",
    "    return Activation('sigmoid')(layer)\n",
    "\n",
    "def add_compile(model, **params):\n",
    "    '''\n",
    "    This functions adds the compiler to the model\n",
    "    We have used Adam Optimizer and Categorical Cross-Entropy Loss'''\n",
    "    \n",
    "    optimizer = Adam(\n",
    "        learning_rate=params[\"learning_rate\"],\n",
    "        clipnorm=params.get(\"clipnorm\", 1))\n",
    "\n",
    "    model.compile(loss='binary_crossentropy',\n",
    "                  optimizer=optimizer,\n",
    "                  metrics=['accuracy'])\n",
    "    return model\n",
    "\n",
    "def build_network(**params):\n",
    "    '''\n",
    "    This function builds the entire network based on given parameters'''\n",
    "    inputs = tf.keras.Input(shape=params['input_shape'],\n",
    "                   dtype='float32',\n",
    "                   name='inputs')\n",
    "\n",
    "    if params.get('is_regular_conv', False):\n",
    "        layer = add_conv_layers(inputs, **params)\n",
    "    else:\n",
    "        layer = add_resnet_layers(inputs, **params)\n",
    "\n",
    "    output = add_output_layer(layer, **params)\n",
    "    model = tf.keras.Model(inputs=[inputs], outputs=[output])\n",
    "    if params.get(\"compile\", True):\n",
    "        model = add_compile(model, **params)\n",
    "    return model\n"
   ]
  },
  {
   "cell_type": "code",
   "execution_count": 14,
   "id": "629d1f9a",
   "metadata": {},
   "outputs": [],
   "source": [
    "# Model Parameters\n",
    "params = {\n",
    "\"conv_subsample_lengths\": [1, 2, 1, 2, 1, 2, 1, 2, 1, 2, 1, 2, 1, 2, 1, 2],\n",
    "\"conv_filter_length\": 16,\n",
    "\"conv_num_filters_start\": 32,\n",
    "\"conv_init\": \"he_normal\",\n",
    "\"conv_activation\": \"relu\",\n",
    "\"conv_dropout\": 0.2,\n",
    "\"conv_num_skip\": 2,\n",
    "\"conv_increase_channels_at\": 4,\n",
    "\n",
    "\"learning_rate\": 0.001,\n",
    "\"input_shape\": [44288, 1],\n",
    "\"num_categories\": 1,\n",
    "\"compile\":False\n",
    "}\n",
    "\n",
    "# Cough Model\n",
    "cough_model = build_network(**params)\n",
    "model_path = '/home/bigpenguin/projects/surfboard_works/CNN_Weights/cnn_model3_cough_vs_non_cough.h5'\n",
    "cough_model.load_weights(model_path)"
   ]
  },
  {
   "cell_type": "code",
   "execution_count": 15,
   "id": "f05e40a8",
   "metadata": {},
   "outputs": [],
   "source": [
    "X_s = []\n",
    "\n",
    "if len(x)>=44288:\n",
    "    x = x[0:44288]\n",
    "else:\n",
    "    pad_num = 44288-len(y)\n",
    "    x = np.pad(x, [(0), (pad_num)], mode='constant')\n",
    "\n",
    "X_s.append(x)"
   ]
  },
  {
   "cell_type": "code",
   "execution_count": 18,
   "id": "22caf745",
   "metadata": {},
   "outputs": [],
   "source": [
    "X_s=np.array(X_s)"
   ]
  },
  {
   "cell_type": "code",
   "execution_count": 19,
   "id": "1e7fab59",
   "metadata": {},
   "outputs": [
    {
     "name": "stdout",
     "output_type": "stream",
     "text": [
      "1/1 [==============================] - 1s 1s/step\n",
      "0\n"
     ]
    }
   ],
   "source": [
    "indices = []\n",
    "y_pred_proba = cough_model.predict(X_s)\n",
    "y_pred = np.where(y_pred_proba>0.5,1,0)\n",
    "for idx,(i,j) in enumerate(zip(y_pred,y_pred_proba)):\n",
    "    if i[0] ==0:\n",
    "        indices.append(idx)\n",
    "    elif i[0]==1:\n",
    "        continue\n",
    "print(len(indices))"
   ]
  },
  {
   "cell_type": "code",
   "execution_count": 20,
   "id": "c35676a0",
   "metadata": {},
   "outputs": [
    {
     "data": {
      "text/plain": [
       "array([[1]])"
      ]
     },
     "execution_count": 20,
     "metadata": {},
     "output_type": "execute_result"
    }
   ],
   "source": [
    "y_pred"
   ]
  }
 ],
 "metadata": {
  "kernelspec": {
   "display_name": "Python 3 (ipykernel)",
   "language": "python",
   "name": "python3"
  },
  "language_info": {
   "codemirror_mode": {
    "name": "ipython",
    "version": 3
   },
   "file_extension": ".py",
   "mimetype": "text/x-python",
   "name": "python",
   "nbconvert_exporter": "python",
   "pygments_lexer": "ipython3",
   "version": "3.7.13"
  }
 },
 "nbformat": 4,
 "nbformat_minor": 5
}
